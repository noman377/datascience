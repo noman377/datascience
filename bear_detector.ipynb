{
  "nbformat": 4,
  "nbformat_minor": 0,
  "metadata": {
    "colab": {
      "provenance": [],
      "gpuType": "A100",
      "authorship_tag": "ABX9TyPxEYNHpjtXBTwgSNIKVuHI",
      "include_colab_link": true
    },
    "kernelspec": {
      "name": "python3",
      "display_name": "Python 3"
    },
    "language_info": {
      "name": "python"
    },
    "accelerator": "GPU",
    "widgets": {
      "application/vnd.jupyter.widget-state+json": {
        "b05fa3d061914b86b72db7b3aa4f8311": {
          "model_module": "@jupyter-widgets/controls",
          "model_name": "FileUploadModel",
          "model_module_version": "1.5.0",
          "state": {
            "_counter": 1,
            "_dom_classes": [],
            "_model_module": "@jupyter-widgets/controls",
            "_model_module_version": "1.5.0",
            "_model_name": "FileUploadModel",
            "_view_count": null,
            "_view_module": "@jupyter-widgets/controls",
            "_view_module_version": "1.5.0",
            "_view_name": "FileUploadView",
            "accept": "",
            "button_style": "",
            "data": [
              null
            ],
            "description": "Upload",
            "description_tooltip": null,
            "disabled": false,
            "error": "",
            "icon": "upload",
            "layout": "IPY_MODEL_756040e5210548e1a718294d35a2d83f",
            "metadata": [
              {
                "name": "grizzly.jpg",
                "type": "image/jpeg",
                "size": 223988,
                "lastModified": 1727090743495
              }
            ],
            "multiple": false,
            "style": "IPY_MODEL_130537af089942ee81f9f83ff3a2887a"
          }
        },
        "756040e5210548e1a718294d35a2d83f": {
          "model_module": "@jupyter-widgets/base",
          "model_name": "LayoutModel",
          "model_module_version": "1.2.0",
          "state": {
            "_model_module": "@jupyter-widgets/base",
            "_model_module_version": "1.2.0",
            "_model_name": "LayoutModel",
            "_view_count": null,
            "_view_module": "@jupyter-widgets/base",
            "_view_module_version": "1.2.0",
            "_view_name": "LayoutView",
            "align_content": null,
            "align_items": null,
            "align_self": null,
            "border": null,
            "bottom": null,
            "display": null,
            "flex": null,
            "flex_flow": null,
            "grid_area": null,
            "grid_auto_columns": null,
            "grid_auto_flow": null,
            "grid_auto_rows": null,
            "grid_column": null,
            "grid_gap": null,
            "grid_row": null,
            "grid_template_areas": null,
            "grid_template_columns": null,
            "grid_template_rows": null,
            "height": null,
            "justify_content": null,
            "justify_items": null,
            "left": null,
            "margin": null,
            "max_height": null,
            "max_width": null,
            "min_height": null,
            "min_width": null,
            "object_fit": null,
            "object_position": null,
            "order": null,
            "overflow": null,
            "overflow_x": null,
            "overflow_y": null,
            "padding": null,
            "right": null,
            "top": null,
            "visibility": null,
            "width": null
          }
        },
        "130537af089942ee81f9f83ff3a2887a": {
          "model_module": "@jupyter-widgets/controls",
          "model_name": "ButtonStyleModel",
          "model_module_version": "1.5.0",
          "state": {
            "_model_module": "@jupyter-widgets/controls",
            "_model_module_version": "1.5.0",
            "_model_name": "ButtonStyleModel",
            "_view_count": null,
            "_view_module": "@jupyter-widgets/base",
            "_view_module_version": "1.2.0",
            "_view_name": "StyleView",
            "button_color": null,
            "font_weight": ""
          }
        },
        "9ea513c82ba04ee299c62a4541fd476f": {
          "model_module": "@jupyter-widgets/controls",
          "model_name": "LabelModel",
          "model_module_version": "1.5.0",
          "state": {
            "_dom_classes": [],
            "_model_module": "@jupyter-widgets/controls",
            "_model_module_version": "1.5.0",
            "_model_name": "LabelModel",
            "_view_count": null,
            "_view_module": "@jupyter-widgets/controls",
            "_view_module_version": "1.5.0",
            "_view_name": "LabelView",
            "description": "",
            "description_tooltip": null,
            "layout": "IPY_MODEL_5f1c5e4a168d4a69a27aca9dfc7b9ec4",
            "placeholder": "​",
            "style": "IPY_MODEL_f341c0152d7a4650b445ca6dd0936ebd",
            "value": "Prediction: black; Probability: 1.0000"
          }
        },
        "5f1c5e4a168d4a69a27aca9dfc7b9ec4": {
          "model_module": "@jupyter-widgets/base",
          "model_name": "LayoutModel",
          "model_module_version": "1.2.0",
          "state": {
            "_model_module": "@jupyter-widgets/base",
            "_model_module_version": "1.2.0",
            "_model_name": "LayoutModel",
            "_view_count": null,
            "_view_module": "@jupyter-widgets/base",
            "_view_module_version": "1.2.0",
            "_view_name": "LayoutView",
            "align_content": null,
            "align_items": null,
            "align_self": null,
            "border": null,
            "bottom": null,
            "display": null,
            "flex": null,
            "flex_flow": null,
            "grid_area": null,
            "grid_auto_columns": null,
            "grid_auto_flow": null,
            "grid_auto_rows": null,
            "grid_column": null,
            "grid_gap": null,
            "grid_row": null,
            "grid_template_areas": null,
            "grid_template_columns": null,
            "grid_template_rows": null,
            "height": null,
            "justify_content": null,
            "justify_items": null,
            "left": null,
            "margin": null,
            "max_height": null,
            "max_width": null,
            "min_height": null,
            "min_width": null,
            "object_fit": null,
            "object_position": null,
            "order": null,
            "overflow": null,
            "overflow_x": null,
            "overflow_y": null,
            "padding": null,
            "right": null,
            "top": null,
            "visibility": null,
            "width": null
          }
        },
        "f341c0152d7a4650b445ca6dd0936ebd": {
          "model_module": "@jupyter-widgets/controls",
          "model_name": "DescriptionStyleModel",
          "model_module_version": "1.5.0",
          "state": {
            "_model_module": "@jupyter-widgets/controls",
            "_model_module_version": "1.5.0",
            "_model_name": "DescriptionStyleModel",
            "_view_count": null,
            "_view_module": "@jupyter-widgets/base",
            "_view_module_version": "1.2.0",
            "_view_name": "StyleView",
            "description_width": ""
          }
        },
        "f38e855872b647d49a9d9783dcce27ca": {
          "model_module": "@jupyter-widgets/controls",
          "model_name": "ButtonModel",
          "model_module_version": "1.5.0",
          "state": {
            "_dom_classes": [],
            "_model_module": "@jupyter-widgets/controls",
            "_model_module_version": "1.5.0",
            "_model_name": "ButtonModel",
            "_view_count": null,
            "_view_module": "@jupyter-widgets/controls",
            "_view_module_version": "1.5.0",
            "_view_name": "ButtonView",
            "button_style": "",
            "description": "Classify",
            "disabled": false,
            "icon": "",
            "layout": "IPY_MODEL_f9c0bef7e623427f86ffe1cc311acbb7",
            "style": "IPY_MODEL_7ca8da7c4d324f8a9d5408ed3695cd7d",
            "tooltip": ""
          }
        },
        "f9c0bef7e623427f86ffe1cc311acbb7": {
          "model_module": "@jupyter-widgets/base",
          "model_name": "LayoutModel",
          "model_module_version": "1.2.0",
          "state": {
            "_model_module": "@jupyter-widgets/base",
            "_model_module_version": "1.2.0",
            "_model_name": "LayoutModel",
            "_view_count": null,
            "_view_module": "@jupyter-widgets/base",
            "_view_module_version": "1.2.0",
            "_view_name": "LayoutView",
            "align_content": null,
            "align_items": null,
            "align_self": null,
            "border": null,
            "bottom": null,
            "display": null,
            "flex": null,
            "flex_flow": null,
            "grid_area": null,
            "grid_auto_columns": null,
            "grid_auto_flow": null,
            "grid_auto_rows": null,
            "grid_column": null,
            "grid_gap": null,
            "grid_row": null,
            "grid_template_areas": null,
            "grid_template_columns": null,
            "grid_template_rows": null,
            "height": null,
            "justify_content": null,
            "justify_items": null,
            "left": null,
            "margin": null,
            "max_height": null,
            "max_width": null,
            "min_height": null,
            "min_width": null,
            "object_fit": null,
            "object_position": null,
            "order": null,
            "overflow": null,
            "overflow_x": null,
            "overflow_y": null,
            "padding": null,
            "right": null,
            "top": null,
            "visibility": null,
            "width": null
          }
        },
        "7ca8da7c4d324f8a9d5408ed3695cd7d": {
          "model_module": "@jupyter-widgets/controls",
          "model_name": "ButtonStyleModel",
          "model_module_version": "1.5.0",
          "state": {
            "_model_module": "@jupyter-widgets/controls",
            "_model_module_version": "1.5.0",
            "_model_name": "ButtonStyleModel",
            "_view_count": null,
            "_view_module": "@jupyter-widgets/base",
            "_view_module_version": "1.2.0",
            "_view_name": "StyleView",
            "button_color": null,
            "font_weight": ""
          }
        },
        "cf60b724943a4e459b7948d707ed8cff": {
          "model_module": "@jupyter-widgets/controls",
          "model_name": "VBoxModel",
          "model_module_version": "1.5.0",
          "state": {
            "_dom_classes": [],
            "_model_module": "@jupyter-widgets/controls",
            "_model_module_version": "1.5.0",
            "_model_name": "VBoxModel",
            "_view_count": null,
            "_view_module": "@jupyter-widgets/controls",
            "_view_module_version": "1.5.0",
            "_view_name": "VBoxView",
            "box_style": "",
            "children": [
              "IPY_MODEL_f03f585b23a3479db13f969922345c31",
              "IPY_MODEL_45febd6f7ae14fafbf400c49068edaed",
              "IPY_MODEL_f38e855872b647d49a9d9783dcce27ca",
              "IPY_MODEL_a30a02544a5946d680f9ec29fd927731",
              "IPY_MODEL_9ea513c82ba04ee299c62a4541fd476f"
            ],
            "layout": "IPY_MODEL_cf2e60f15c304728876e5965e27be25f"
          }
        },
        "f03f585b23a3479db13f969922345c31": {
          "model_module": "@jupyter-widgets/controls",
          "model_name": "LabelModel",
          "model_module_version": "1.5.0",
          "state": {
            "_dom_classes": [],
            "_model_module": "@jupyter-widgets/controls",
            "_model_module_version": "1.5.0",
            "_model_name": "LabelModel",
            "_view_count": null,
            "_view_module": "@jupyter-widgets/controls",
            "_view_module_version": "1.5.0",
            "_view_name": "LabelView",
            "description": "",
            "description_tooltip": null,
            "layout": "IPY_MODEL_8433e3993b65470bbdf2c282c24ca114",
            "placeholder": "​",
            "style": "IPY_MODEL_6e701e4dc03a4f48bbadfcdef2f59404",
            "value": "Select your bear!"
          }
        },
        "45febd6f7ae14fafbf400c49068edaed": {
          "model_module": "@jupyter-widgets/controls",
          "model_name": "FileUploadModel",
          "model_module_version": "1.5.0",
          "state": {
            "_counter": 1,
            "_dom_classes": [],
            "_model_module": "@jupyter-widgets/controls",
            "_model_module_version": "1.5.0",
            "_model_name": "FileUploadModel",
            "_view_count": null,
            "_view_module": "@jupyter-widgets/controls",
            "_view_module_version": "1.5.0",
            "_view_name": "FileUploadView",
            "accept": "",
            "button_style": "",
            "data": [
              null
            ],
            "description": "Upload",
            "description_tooltip": null,
            "disabled": false,
            "error": "",
            "icon": "upload",
            "layout": "IPY_MODEL_61ae2eaebc7f44f088bf663abb8ec5b3",
            "metadata": [
              {
                "name": "black.jpg",
                "type": "image/jpeg",
                "size": 1960788,
                "lastModified": 1727101077128
              }
            ],
            "multiple": false,
            "style": "IPY_MODEL_df1af2851f304d2b98c0c5b7f9735eae"
          }
        },
        "a30a02544a5946d680f9ec29fd927731": {
          "model_module": "@jupyter-widgets/output",
          "model_name": "OutputModel",
          "model_module_version": "1.0.0",
          "state": {
            "_dom_classes": [],
            "_model_module": "@jupyter-widgets/output",
            "_model_module_version": "1.0.0",
            "_model_name": "OutputModel",
            "_view_count": null,
            "_view_module": "@jupyter-widgets/output",
            "_view_module_version": "1.0.0",
            "_view_name": "OutputView",
            "layout": "IPY_MODEL_f1abf0774f004ca2ab50464b1add0ef5",
            "msg_id": "",
            "outputs": [
              {
                "output_type": "display_data",
                "data": {
                  "text/plain": "<PIL.Image.Image image mode=RGB size=128x85>",
                  "image/png": "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\n",
                  "image/jpeg": "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\n"
                },
                "metadata": {}
              }
            ]
          }
        },
        "cf2e60f15c304728876e5965e27be25f": {
          "model_module": "@jupyter-widgets/base",
          "model_name": "LayoutModel",
          "model_module_version": "1.2.0",
          "state": {
            "_model_module": "@jupyter-widgets/base",
            "_model_module_version": "1.2.0",
            "_model_name": "LayoutModel",
            "_view_count": null,
            "_view_module": "@jupyter-widgets/base",
            "_view_module_version": "1.2.0",
            "_view_name": "LayoutView",
            "align_content": null,
            "align_items": null,
            "align_self": null,
            "border": null,
            "bottom": null,
            "display": null,
            "flex": null,
            "flex_flow": null,
            "grid_area": null,
            "grid_auto_columns": null,
            "grid_auto_flow": null,
            "grid_auto_rows": null,
            "grid_column": null,
            "grid_gap": null,
            "grid_row": null,
            "grid_template_areas": null,
            "grid_template_columns": null,
            "grid_template_rows": null,
            "height": null,
            "justify_content": null,
            "justify_items": null,
            "left": null,
            "margin": null,
            "max_height": null,
            "max_width": null,
            "min_height": null,
            "min_width": null,
            "object_fit": null,
            "object_position": null,
            "order": null,
            "overflow": null,
            "overflow_x": null,
            "overflow_y": null,
            "padding": null,
            "right": null,
            "top": null,
            "visibility": null,
            "width": null
          }
        },
        "8433e3993b65470bbdf2c282c24ca114": {
          "model_module": "@jupyter-widgets/base",
          "model_name": "LayoutModel",
          "model_module_version": "1.2.0",
          "state": {
            "_model_module": "@jupyter-widgets/base",
            "_model_module_version": "1.2.0",
            "_model_name": "LayoutModel",
            "_view_count": null,
            "_view_module": "@jupyter-widgets/base",
            "_view_module_version": "1.2.0",
            "_view_name": "LayoutView",
            "align_content": null,
            "align_items": null,
            "align_self": null,
            "border": null,
            "bottom": null,
            "display": null,
            "flex": null,
            "flex_flow": null,
            "grid_area": null,
            "grid_auto_columns": null,
            "grid_auto_flow": null,
            "grid_auto_rows": null,
            "grid_column": null,
            "grid_gap": null,
            "grid_row": null,
            "grid_template_areas": null,
            "grid_template_columns": null,
            "grid_template_rows": null,
            "height": null,
            "justify_content": null,
            "justify_items": null,
            "left": null,
            "margin": null,
            "max_height": null,
            "max_width": null,
            "min_height": null,
            "min_width": null,
            "object_fit": null,
            "object_position": null,
            "order": null,
            "overflow": null,
            "overflow_x": null,
            "overflow_y": null,
            "padding": null,
            "right": null,
            "top": null,
            "visibility": null,
            "width": null
          }
        },
        "6e701e4dc03a4f48bbadfcdef2f59404": {
          "model_module": "@jupyter-widgets/controls",
          "model_name": "DescriptionStyleModel",
          "model_module_version": "1.5.0",
          "state": {
            "_model_module": "@jupyter-widgets/controls",
            "_model_module_version": "1.5.0",
            "_model_name": "DescriptionStyleModel",
            "_view_count": null,
            "_view_module": "@jupyter-widgets/base",
            "_view_module_version": "1.2.0",
            "_view_name": "StyleView",
            "description_width": ""
          }
        },
        "61ae2eaebc7f44f088bf663abb8ec5b3": {
          "model_module": "@jupyter-widgets/base",
          "model_name": "LayoutModel",
          "model_module_version": "1.2.0",
          "state": {
            "_model_module": "@jupyter-widgets/base",
            "_model_module_version": "1.2.0",
            "_model_name": "LayoutModel",
            "_view_count": null,
            "_view_module": "@jupyter-widgets/base",
            "_view_module_version": "1.2.0",
            "_view_name": "LayoutView",
            "align_content": null,
            "align_items": null,
            "align_self": null,
            "border": null,
            "bottom": null,
            "display": null,
            "flex": null,
            "flex_flow": null,
            "grid_area": null,
            "grid_auto_columns": null,
            "grid_auto_flow": null,
            "grid_auto_rows": null,
            "grid_column": null,
            "grid_gap": null,
            "grid_row": null,
            "grid_template_areas": null,
            "grid_template_columns": null,
            "grid_template_rows": null,
            "height": null,
            "justify_content": null,
            "justify_items": null,
            "left": null,
            "margin": null,
            "max_height": null,
            "max_width": null,
            "min_height": null,
            "min_width": null,
            "object_fit": null,
            "object_position": null,
            "order": null,
            "overflow": null,
            "overflow_x": null,
            "overflow_y": null,
            "padding": null,
            "right": null,
            "top": null,
            "visibility": null,
            "width": null
          }
        },
        "df1af2851f304d2b98c0c5b7f9735eae": {
          "model_module": "@jupyter-widgets/controls",
          "model_name": "ButtonStyleModel",
          "model_module_version": "1.5.0",
          "state": {
            "_model_module": "@jupyter-widgets/controls",
            "_model_module_version": "1.5.0",
            "_model_name": "ButtonStyleModel",
            "_view_count": null,
            "_view_module": "@jupyter-widgets/base",
            "_view_module_version": "1.2.0",
            "_view_name": "StyleView",
            "button_color": null,
            "font_weight": ""
          }
        },
        "f1abf0774f004ca2ab50464b1add0ef5": {
          "model_module": "@jupyter-widgets/base",
          "model_name": "LayoutModel",
          "model_module_version": "1.2.0",
          "state": {
            "_model_module": "@jupyter-widgets/base",
            "_model_module_version": "1.2.0",
            "_model_name": "LayoutModel",
            "_view_count": null,
            "_view_module": "@jupyter-widgets/base",
            "_view_module_version": "1.2.0",
            "_view_name": "LayoutView",
            "align_content": null,
            "align_items": null,
            "align_self": null,
            "border": null,
            "bottom": null,
            "display": null,
            "flex": null,
            "flex_flow": null,
            "grid_area": null,
            "grid_auto_columns": null,
            "grid_auto_flow": null,
            "grid_auto_rows": null,
            "grid_column": null,
            "grid_gap": null,
            "grid_row": null,
            "grid_template_areas": null,
            "grid_template_columns": null,
            "grid_template_rows": null,
            "height": null,
            "justify_content": null,
            "justify_items": null,
            "left": null,
            "margin": null,
            "max_height": null,
            "max_width": null,
            "min_height": null,
            "min_width": null,
            "object_fit": null,
            "object_position": null,
            "order": null,
            "overflow": null,
            "overflow_x": null,
            "overflow_y": null,
            "padding": null,
            "right": null,
            "top": null,
            "visibility": null,
            "width": null
          }
        }
      }
    }
  },
  "cells": [
    {
      "cell_type": "markdown",
      "metadata": {
        "id": "view-in-github",
        "colab_type": "text"
      },
      "source": [
        "<a href=\"https://colab.research.google.com/github/noman377/datascience/blob/main/bear_detector.ipynb\" target=\"_parent\"><img src=\"https://colab.research.google.com/assets/colab-badge.svg\" alt=\"Open In Colab\"/></a>"
      ]
    },
    {
      "cell_type": "code",
      "source": [
        "from google.colab import drive\n",
        "drive.mount('/content/drive')"
      ],
      "metadata": {
        "id": "lm9s4Ck3DvZm"
      },
      "execution_count": null,
      "outputs": []
    },
    {
      "cell_type": "markdown",
      "source": [
        "Google Content Folder:\n",
        "content/drive/MyDrive/DataScience/images/"
      ],
      "metadata": {
        "id": "RDh3NYXLHYa9"
      }
    },
    {
      "cell_type": "code",
      "source": [
        "drive = 'drive/MyDrive/DataScience/'"
      ],
      "metadata": {
        "id": "GQ1V5TN2IZKj"
      },
      "execution_count": 23,
      "outputs": []
    },
    {
      "cell_type": "code",
      "source": [
        "!pip install fastbook"
      ],
      "metadata": {
        "collapsed": true,
        "id": "WXDkMfTuiZ0C"
      },
      "execution_count": null,
      "outputs": []
    },
    {
      "cell_type": "code",
      "source": [
        "! [ -e /content ] && pip install -Uqq fastbook\n",
        "import fastbook\n",
        "fastbook.setup_book()"
      ],
      "metadata": {
        "id": "FUAcZ0FDliNu"
      },
      "execution_count": 9,
      "outputs": []
    },
    {
      "cell_type": "code",
      "source": [
        "from fastbook import *\n",
        "from fastai.vision.widgets import *"
      ],
      "metadata": {
        "id": "XwS-n9KSllKt"
      },
      "execution_count": 10,
      "outputs": []
    },
    {
      "cell_type": "code",
      "source": [
        "grizzly = drive+'images/grizzly.jpg'\n",
        "im = Image.open(grizzly)\n",
        "im.to_thumb(128,128)"
      ],
      "metadata": {
        "colab": {
          "base_uri": "https://localhost:8080/",
          "height": 102
        },
        "id": "SfkZNBpQIBFO",
        "outputId": "e22fcfd1-bfcc-4a04-bd8e-cee00bab68fd"
      },
      "execution_count": 29,
      "outputs": [
        {
          "output_type": "execute_result",
          "data": {
            "text/plain": [
              "<PIL.Image.Image image mode=RGB size=128x85>"
            ],
            "image/png": "[encoded data removed]",
            "image/jpeg": "[encoded data removed]"
          },
          "metadata": {},
          "execution_count": 29
        }
      ]
    },
    {
      "cell_type": "code",
      "source": [
        "path = drive+'bear_detector.pkl'\n",
        "learn_inf = load_learner(path)"
      ],
      "metadata": {
        "id": "Lwc9xDh5qGdm"
      },
      "execution_count": 28,
      "outputs": []
    },
    {
      "cell_type": "code",
      "source": [
        "learn_inf.predict(grizzly)"
      ],
      "metadata": {
        "id": "NhEy7-YMqJk-"
      },
      "execution_count": null,
      "outputs": []
    },
    {
      "cell_type": "code",
      "source": [
        "btn_upload = widgets.FileUpload()\n",
        "btn_upload"
      ],
      "metadata": {
        "colab": {
          "base_uri": "https://localhost:8080/",
          "height": 49,
          "referenced_widgets": [
            "b05fa3d061914b86b72db7b3aa4f8311",
            "756040e5210548e1a718294d35a2d83f",
            "130537af089942ee81f9f83ff3a2887a"
          ]
        },
        "id": "8sxXrSkRNdIU",
        "outputId": "f53afcd9-f22a-4603-c022-0e4fa14dd826"
      },
      "execution_count": 35,
      "outputs": [
        {
          "output_type": "display_data",
          "data": {
            "text/plain": [
              "FileUpload(value={}, description='Upload')"
            ],
            "application/vnd.jupyter.widget-view+json": {
              "version_major": 2,
              "version_minor": 0,
              "model_id": "b05fa3d061914b86b72db7b3aa4f8311"
            }
          },
          "metadata": {}
        }
      ]
    },
    {
      "cell_type": "code",
      "source": [
        "btn_upload = SimpleNamespace(data = [grizzly])"
      ],
      "metadata": {
        "id": "CY-swH2WNn8n"
      },
      "execution_count": 37,
      "outputs": []
    },
    {
      "cell_type": "code",
      "source": [
        "img = PILImage.create(btn_upload.data[-1])"
      ],
      "metadata": {
        "id": "dJFEuZTlN-44"
      },
      "execution_count": null,
      "outputs": []
    },
    {
      "cell_type": "code",
      "source": [
        "out_pl = widgets.Output()\n",
        "out_pl.clear_output()\n",
        "with out_pl: display(img.to_thumb(128,128))\n",
        "out_pl"
      ],
      "metadata": {
        "id": "C65vwxh6OWEb"
      },
      "execution_count": null,
      "outputs": []
    },
    {
      "cell_type": "code",
      "source": [
        "pred,pred_idx,probs = learn_inf.predict(img)"
      ],
      "metadata": {
        "id": "6WYrMsVEOo05"
      },
      "execution_count": null,
      "outputs": []
    },
    {
      "cell_type": "code",
      "source": [
        "lbl_pred = widgets.Label()\n",
        "lbl_pred.value = f'Prediction: {pred}; Probability: {probs[pred_idx]:.04f}'\n",
        "lbl_pred"
      ],
      "metadata": {
        "colab": {
          "base_uri": "https://localhost:8080/",
          "height": 49,
          "referenced_widgets": [
            "9ea513c82ba04ee299c62a4541fd476f",
            "5f1c5e4a168d4a69a27aca9dfc7b9ec4",
            "f341c0152d7a4650b445ca6dd0936ebd"
          ]
        },
        "id": "sRBsi8njOwiH",
        "outputId": "be8908eb-09f2-4944-f6a1-1f6f349acdb3"
      },
      "execution_count": 42,
      "outputs": [
        {
          "output_type": "display_data",
          "data": {
            "text/plain": [
              "Label(value='Prediction: grizzly; Probability: 0.9993')"
            ],
            "application/vnd.jupyter.widget-view+json": {
              "version_major": 2,
              "version_minor": 0,
              "model_id": "9ea513c82ba04ee299c62a4541fd476f"
            }
          },
          "metadata": {}
        }
      ]
    },
    {
      "cell_type": "code",
      "source": [
        "btn_run = widgets.Button(description='Classify')\n",
        "btn_run"
      ],
      "metadata": {
        "colab": {
          "base_uri": "https://localhost:8080/",
          "height": 49,
          "referenced_widgets": [
            "f38e855872b647d49a9d9783dcce27ca",
            "f9c0bef7e623427f86ffe1cc311acbb7",
            "7ca8da7c4d324f8a9d5408ed3695cd7d"
          ]
        },
        "id": "8-cipahKO6oJ",
        "outputId": "d98da3f7-a481-45ca-9f9d-9395ba90c207"
      },
      "execution_count": 43,
      "outputs": [
        {
          "output_type": "display_data",
          "data": {
            "text/plain": [
              "Button(description='Classify', style=ButtonStyle())"
            ],
            "application/vnd.jupyter.widget-view+json": {
              "version_major": 2,
              "version_minor": 0,
              "model_id": "f38e855872b647d49a9d9783dcce27ca"
            }
          },
          "metadata": {}
        }
      ]
    },
    {
      "cell_type": "code",
      "source": [
        "def on_click_classify(change):\n",
        "    img = PILImage.create(btn_upload.data[-1])\n",
        "    out_pl.clear_output()\n",
        "    with out_pl: display(img.to_thumb(128,128))\n",
        "    pred,pred_idx,probs = learn_inf.predict(img)\n",
        "    lbl_pred.value = f'Prediction: {pred}; Probability: {probs[pred_idx]:.04f}'\n",
        "\n",
        "btn_run.on_click(on_click_classify)"
      ],
      "metadata": {
        "id": "5mdmTHMhO9N5"
      },
      "execution_count": 44,
      "outputs": []
    },
    {
      "cell_type": "code",
      "source": [
        "btn_upload = widgets.FileUpload()"
      ],
      "metadata": {
        "id": "RjanLKSCPJNv"
      },
      "execution_count": 45,
      "outputs": []
    },
    {
      "cell_type": "code",
      "source": [
        "VBox([widgets.Label('Select your bear!'),\n",
        "      btn_upload, btn_run, out_pl, lbl_pred])"
      ],
      "metadata": {
        "colab": {
          "base_uri": "https://localhost:8080/",
          "height": 230,
          "referenced_widgets": [
            "cf60b724943a4e459b7948d707ed8cff",
            "f03f585b23a3479db13f969922345c31",
            "45febd6f7ae14fafbf400c49068edaed",
            "f38e855872b647d49a9d9783dcce27ca",
            "a30a02544a5946d680f9ec29fd927731",
            "9ea513c82ba04ee299c62a4541fd476f",
            "cf2e60f15c304728876e5965e27be25f",
            "8433e3993b65470bbdf2c282c24ca114",
            "6e701e4dc03a4f48bbadfcdef2f59404",
            "61ae2eaebc7f44f088bf663abb8ec5b3",
            "df1af2851f304d2b98c0c5b7f9735eae",
            "f9c0bef7e623427f86ffe1cc311acbb7",
            "7ca8da7c4d324f8a9d5408ed3695cd7d",
            "5f1c5e4a168d4a69a27aca9dfc7b9ec4",
            "f341c0152d7a4650b445ca6dd0936ebd",
            "f1abf0774f004ca2ab50464b1add0ef5"
          ]
        },
        "id": "Qdh5gFIXPK08",
        "outputId": "933fac26-334e-48cb-a0fc-789d669f7d6c"
      },
      "execution_count": 46,
      "outputs": [
        {
          "output_type": "display_data",
          "data": {
            "text/plain": [
              "VBox(children=(Label(value='Select your bear!'), FileUpload(value={}, description='Upload'), Button(descriptio…"
            ],
            "application/vnd.jupyter.widget-view+json": {
              "version_major": 2,
              "version_minor": 0,
              "model_id": "cf60b724943a4e459b7948d707ed8cff"
            }
          },
          "metadata": {}
        },
        {
          "output_type": "display_data",
          "data": {
            "text/plain": [
              "<IPython.core.display.HTML object>"
            ],
            "text/html": [
              "\n",
              "<style>\n",
              "    /* Turns off some styling */\n",
              "    progress {\n",
              "        /* gets rid of default border in Firefox and Opera. */\n",
              "        border: none;\n",
              "        /* Needs to be in here for Safari polyfill so background images work as expected. */\n",
              "        background-size: auto;\n",
              "    }\n",
              "    progress:not([value]), progress:not([value])::-webkit-progress-bar {\n",
              "        background: repeating-linear-gradient(45deg, #7e7e7e, #7e7e7e 10px, #5c5c5c 10px, #5c5c5c 20px);\n",
              "    }\n",
              "    .progress-bar-interrupted, .progress-bar-interrupted::-webkit-progress-bar {\n",
              "        background: #F44336;\n",
              "    }\n",
              "</style>\n"
            ]
          },
          "metadata": {}
        },
        {
          "output_type": "display_data",
          "data": {
            "text/plain": [
              "<IPython.core.display.HTML object>"
            ],
            "text/html": []
          },
          "metadata": {}
        }
      ]
    },
    {
      "cell_type": "code",
      "source": [
        "!pip install voila\n",
        "!jupyter serverextension enable --sys-prefix voila"
      ],
      "metadata": {
        "id": "JG7x02rRQVZI"
      },
      "execution_count": null,
      "outputs": []
    }
  ]
}